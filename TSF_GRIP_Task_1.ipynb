{
  "nbformat": 4,
  "nbformat_minor": 0,
  "metadata": {
    "colab": {
      "name": "TSF GRIP Task 1.ipynb",
      "provenance": [],
      "authorship_tag": "ABX9TyPM4Fn8igE9HN9vQVDWqR5B",
      "include_colab_link": true
    },
    "kernelspec": {
      "name": "python3",
      "display_name": "Python 3"
    },
    "language_info": {
      "name": "python"
    }
  },
  "cells": [
    {
      "cell_type": "markdown",
      "metadata": {
        "id": "view-in-github",
        "colab_type": "text"
      },
      "source": [
        "<a href=\"https://colab.research.google.com/github/Ruoro/TSF-GRIPAPRIL22/blob/main/TSF_GRIP_Task_1.ipynb\" target=\"_parent\"><img src=\"https://colab.research.google.com/assets/colab-badge.svg\" alt=\"Open In Colab\"/></a>"
      ]
    },
    {
      "cell_type": "markdown",
      "source": [
        "# TSF GRIP TASK: PREDICTION USING SUPERVISED ML\n",
        "## Data Science & Business Analystics Intern #GRIPAPRIL22\n",
        "Author: Ruoro John \n",
        "\n",
        "Predicting the percentage of a student based on the no of study hours. "
      ],
      "metadata": {
        "id": "m-LwNRw7YYlN"
      }
    },
    {
      "cell_type": "markdown",
      "source": [
        "## Import Libraries and data needed"
      ],
      "metadata": {
        "id": "z0TIKDvgZ3SP"
      }
    },
    {
      "cell_type": "code",
      "execution_count": null,
      "metadata": {
        "id": "HgDiKpWlYAfh"
      },
      "outputs": [],
      "source": [
        "# Importing all libraries required in this notebook\n",
        "import pandas as pd\n",
        "import numpy as np  \n",
        "import matplotlib.pyplot as plt  \n",
        "%matplotlib inline\n"
      ]
    },
    {
      "cell_type": "markdown",
      "source": [
        "## Visualize the Data "
      ],
      "metadata": {
        "id": "no5ZDV2cZCGN"
      }
    },
    {
      "cell_type": "code",
      "source": [
        ""
      ],
      "metadata": {
        "id": "HSUKvGzcaYvA"
      },
      "execution_count": null,
      "outputs": []
    },
    {
      "cell_type": "markdown",
      "source": [
        "## Model Training"
      ],
      "metadata": {
        "id": "QKVxq8MraZIo"
      }
    },
    {
      "cell_type": "markdown",
      "source": [
        "#### 1. Spliitng the data "
      ],
      "metadata": {
        "id": "FX21D51Laefz"
      }
    },
    {
      "cell_type": "code",
      "source": [
        ""
      ],
      "metadata": {
        "id": "_0SohF1ial1c"
      },
      "execution_count": null,
      "outputs": []
    },
    {
      "cell_type": "markdown",
      "source": [
        "#### Fitting the data into the Model"
      ],
      "metadata": {
        "id": "Xqs8qpayamIB"
      }
    },
    {
      "cell_type": "code",
      "source": [
        ""
      ],
      "metadata": {
        "id": "nMuC1K4Vava4"
      },
      "execution_count": null,
      "outputs": []
    },
    {
      "cell_type": "markdown",
      "source": [
        "## Model Evaluation"
      ],
      "metadata": {
        "id": "AbXSSjXLav9D"
      }
    },
    {
      "cell_type": "code",
      "source": [
        ""
      ],
      "metadata": {
        "id": "4B3Uuupka4fP"
      },
      "execution_count": null,
      "outputs": []
    },
    {
      "cell_type": "markdown",
      "source": [
        "## Conclusion"
      ],
      "metadata": {
        "id": "QvvBArqIa4yP"
      }
    }
  ]
}